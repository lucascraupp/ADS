{
 "cells": [
  {
   "cell_type": "markdown",
   "metadata": {},
   "source": [
    "# Avaliação de Desempenho do Protocolo TCP em condições de congestionamento: cubic x reno\n",
    "\n",
    "## Alunos\n",
    "\n",
    "<a href=\"https://github.com/lucascraupp\">\n",
    "    <img style=\"border-radius: 50%;\" src=\"https://avatars.githubusercontent.com/u/86060864?v=4\" width=\"100px;\" alt=\"\"/><br />\n",
    "    <sub><b>Lucas Coelho Raupp</b></sub></a><br />\n",
    "\n",
    "&nbsp;\n",
    "\n",
    "<a href=\"https://github.com/ArthurAnastopulos\">\n",
    "    <img style=\"border-radius: 50%;\" src=\"https://avatars.githubusercontent.com/u/51097061?v=4\" width=\"100px;\" alt=\"\"/><br />\n",
    "    <sub><b>Arthur Anastopulos dos Santos</b></sub></a><br />\n",
    "\n",
    "## Objetivo\n",
    "```md\n",
    "Projetar um experimento para avaliar o comportamento de dois algoritmos de controle de congestionamento (cubic e reno) em uma dada topologia.\n",
    "```\n",
    "\n",
    "## Métricas\n",
    "\n",
    "```java\n",
    "@TODO\n",
    "```\n",
    "\n",
    "## Parâmetros fixados\n",
    "\n",
    "- Tráfego de background UDP\n",
    "- Cenário com fluxo TCP\n",
    "- Links ethernet de 1Gbps.\n",
    "- Intervalos de confiança de 99%\n",
    "\n",
    "## Fatores e níveis\n",
    "\n",
    "- Algorítmo de congestionamento\n",
    "  - Cubic\n",
    "  - Reno\n",
    "- BER\n",
    "  - 1/1e5\n",
    "  - 1/1e6\n",
    "- Retardo no link entre roteadores\n",
    "  - 10ms\n",
    "  - 100ms\n",
    "\n",
    "## Técnicas usadas para avaliação\n",
    "\n",
    "Simulações realizadas através dos softwares Imunes e IPERF"
   ]
  }
 ],
 "metadata": {
  "language_info": {
   "name": "python"
  }
 },
 "nbformat": 4,
 "nbformat_minor": 2
}
